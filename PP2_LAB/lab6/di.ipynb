{
 "cells": [
  {
   "cell_type": "code",
   "execution_count": 7,
   "metadata": {},
   "outputs": [
    {
     "name": "stdout",
     "output_type": "stream",
     "text": [
      "Files: []\n",
      "All: ['githowto', 'w3school']\n"
     ]
    }
   ],
   "source": [
    "import os\n",
    "\n",
    "path = \"C:/Users/bolat/OneDrive/Desktop/PP2_LAB/lab1\"  \n",
    "\n",
    "#print(\"Directories:\", [d for d in os.listdir(path) if os.path.isdir(os.path.join(path, d))])\n",
    "print(\"Files:\", [f for f in os.listdir(path) if os.path.isfile(os.path.join(path, f))])\n",
    "print(\"All:\", os.listdir(path))\n"
   ]
  },
  {
   "cell_type": "code",
   "execution_count": null,
   "metadata": {},
   "outputs": [
    {
     "name": "stdout",
     "output_type": "stream",
     "text": [
      "Exists: False\n",
      "Readable: False\n",
      "Writable: False\n",
      "Executable: False\n"
     ]
    }
   ],
   "source": [
    "import os\n",
    "\n",
    "path = \"C:/Users/bolat/OneDrive/Desktop/PP2_LAB/lab1\"\n",
    "\n",
    "print(\"Exists:\", os.path.exists(path))\n",
    "print(\"Readable:\", os.access(path, os.R_OK))\n",
    "print(\"Writable:\", os.access(path, os.W_OK))\n",
    "print(\"Executable:\", os.access(path, os.X_OK))\n"
   ]
  },
  {
   "cell_type": "code",
   "execution_count": null,
   "metadata": {},
   "outputs": [
    {
     "name": "stdout",
     "output_type": "stream",
     "text": [
      "Path does not exist\n"
     ]
    }
   ],
   "source": [
    "\n",
    "import os\n",
    "\n",
    "path = \"C:/Users/bolat/OneDrive/Desktop/PP2_LAB/lab1\"  # Укажите путь\n",
    "\n",
    "if os.path.exists(path):\n",
    "    print(\"Path exists\")\n",
    "    print(\"Directory:\", os.path.dirname(path))\n",
    "    print(\"Filename:\", os.path.basename(path))\n",
    "else:\n",
    "    print(\"Path does not exist\")\n"
   ]
  },
  {
   "cell_type": "code",
   "execution_count": 3,
   "metadata": {},
   "outputs": [
    {
     "name": "stdout",
     "output_type": "stream",
     "text": [
      "Number of lines: 24\n"
     ]
    }
   ],
   "source": [
    "file_path = \"C:/Users/bolat/OneDrive/Desktop/PP2_LAB/lab6/cocacola.txt\"  # Укажите файл\n",
    "\n",
    "with open(file_path, 'r', encoding='utf-8') as f:\n",
    "    lines = f.readlines()\n",
    "\n",
    "print(\"Number of lines:\", len(lines))\n"
   ]
  },
  {
   "cell_type": "code",
   "execution_count": 4,
   "metadata": {},
   "outputs": [
    {
     "name": "stdout",
     "output_type": "stream",
     "text": [
      "List written to file\n"
     ]
    }
   ],
   "source": [
    "data = [\"Hello\", \"World\", \"Python is great\"]\n",
    "\n",
    "with open(\"output.txt\", 'w', encoding='utf-8') as f:\n",
    "    for item in data:\n",
    "        f.write(item + \"\\n\")\n",
    "\n",
    "print(\"List written to file\")\n"
   ]
  },
  {
   "cell_type": "code",
   "execution_count": null,
   "metadata": {},
   "outputs": [
    {
     "name": "stdout",
     "output_type": "stream",
     "text": [
      "File copied successfully\n"
     ]
    }
   ],
   "source": [
    "source = \"C:/Users/bolat/OneDrive/Desktop/PP2_LAB/lab6/cocacola.txt\" \n",
    "destination = \"C:/Users/bolat/OneDrive/Desktop/PP2_LAB/lab6/destination.txt\"  \n",
    "\n",
    "with open(source, 'r', encoding='utf-8') as src, open(destination, 'w', encoding='utf-8') as dest:\n",
    "    dest.write(src.read())\n",
    "\n",
    "print(\"File copied successfully\")\n"
   ]
  },
  {
   "cell_type": "code",
   "execution_count": 8,
   "metadata": {},
   "outputs": [
    {
     "name": "stdout",
     "output_type": "stream",
     "text": [
      "File does not exist\n"
     ]
    }
   ],
   "source": [
    "import os\n",
    "\n",
    "file_path = \"C:/Users/bolat/OneDrive/Desktop/PP2_LAB/lab6/destination.txt\"  # Укажите путь\n",
    "\n",
    "if os.path.exists(file_path):\n",
    "    if os.access(file_path, os.W_OK):\n",
    "        os.remove(file_path)\n",
    "        print(\"File deleted\")\n",
    "    else:\n",
    "        print(\"No permission to delete the file\")\n",
    "else:\n",
    "    print(\"File does not exist\")\n"
   ]
  }
 ],
 "metadata": {
  "kernelspec": {
   "display_name": "Python 3",
   "language": "python",
   "name": "python3"
  },
  "language_info": {
   "codemirror_mode": {
    "name": "ipython",
    "version": 3
   },
   "file_extension": ".py",
   "mimetype": "text/x-python",
   "name": "python",
   "nbconvert_exporter": "python",
   "pygments_lexer": "ipython3",
   "version": "3.9.13"
  }
 },
 "nbformat": 4,
 "nbformat_minor": 2
}
