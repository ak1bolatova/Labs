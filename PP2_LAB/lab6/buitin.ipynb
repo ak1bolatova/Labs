{
 "cells": [
  {
   "cell_type": "code",
   "execution_count": 7,
   "metadata": {},
   "outputs": [
    {
     "name": "stdout",
     "output_type": "stream",
     "text": [
      "4752\n"
     ]
    }
   ],
   "source": [
    "from functools import reduce\n",
    "list = [1, 2,6, 4, 9 , 11]\n",
    "r = reduce(lambda a,b : a*b,list)\n",
    "print(r)"
   ]
  },
  {
   "cell_type": "code",
   "execution_count": 2,
   "metadata": {},
   "outputs": [
    {
     "name": "stdout",
     "output_type": "stream",
     "text": [
      "9 3\n"
     ]
    }
   ],
   "source": [
    "stringi=\"MY namE IS ALEX\"\n",
    "uppercount=0\n",
    "lowercount=0\n",
    "for i in stringi:\n",
    "    if i.isupper():\n",
    "        uppercount+=1\n",
    "    elif i.islower():\n",
    "        lowercount+=1\n",
    "print(uppercount,lowercount)        \n",
    "        "
   ]
  },
  {
   "cell_type": "code",
   "execution_count": 3,
   "metadata": {},
   "outputs": [
    {
     "name": "stdout",
     "output_type": "stream",
     "text": [
      "True False\n"
     ]
    }
   ],
   "source": [
    "stri=\"aba\"\n",
    "alina=\"alina\"\n",
    "def palin(s):\n",
    "  rev = ''.join(reversed(s))\n",
    "  if rev==s:\n",
    "      return True\n",
    "  return False\n",
    "print(palin(stri),palin(alina))\n"
   ]
  },
  {
   "cell_type": "code",
   "execution_count": 5,
   "metadata": {},
   "outputs": [
    {
     "name": "stdout",
     "output_type": "stream",
     "text": [
      "False\n"
     ]
    }
   ],
   "source": [
    "\n",
    "t = (True, True, True,0)\n",
    "print(all(t))"
   ]
  },
  {
   "cell_type": "code",
   "execution_count": 6,
   "metadata": {},
   "outputs": [
    {
     "name": "stdout",
     "output_type": "stream",
     "text": [
      "Square root of 25100 after 2123 milliseconds is 158.42979517754858\n"
     ]
    }
   ],
   "source": [
    "import time\n",
    "import math\n",
    "\n",
    "num = 25100\n",
    "delay = 2123  \n",
    "\n",
    "time.sleep(delay / 1000)\n",
    "\n",
    "result = math.sqrt(num)\n",
    "\n",
    "print(f\"Square root of {num} after {delay} milliseconds is {result}\")\n"
   ]
  }
 ],
 "metadata": {
  "kernelspec": {
   "display_name": "Python 3",
   "language": "python",
   "name": "python3"
  },
  "language_info": {
   "codemirror_mode": {
    "name": "ipython",
    "version": 3
   },
   "file_extension": ".py",
   "mimetype": "text/x-python",
   "name": "python",
   "nbconvert_exporter": "python",
   "pygments_lexer": "ipython3",
   "version": "3.9.13"
  }
 },
 "nbformat": 4,
 "nbformat_minor": 2
}
