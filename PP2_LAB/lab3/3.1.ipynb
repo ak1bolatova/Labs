{
 "cells": [
  {
   "cell_type": "code",
   "execution_count": 1,
   "metadata": {},
   "outputs": [
    {
     "name": "stdout",
     "output_type": "stream",
     "text": [
      "141.7476155\n"
     ]
    }
   ],
   "source": [
    "def convert (n):\n",
    "    ounces = 28.3495231 * n\n",
    "    return ounces \n",
    "print (convert(5))\n"
   ]
  },
  {
   "cell_type": "code",
   "execution_count": 2,
   "metadata": {},
   "outputs": [
    {
     "name": "stdout",
     "output_type": "stream",
     "text": [
      "0.0\n"
     ]
    }
   ],
   "source": [
    "def convertf_c (f):\n",
    "    C = (5 / 9) * (f - 32)\n",
    "    return C\n",
    "print (convertf_c (32))\n"
   ]
  },
  {
   "cell_type": "code",
   "execution_count": 3,
   "metadata": {},
   "outputs": [
    {
     "name": "stdout",
     "output_type": "stream",
     "text": [
      "(12.0, 23.0)\n"
     ]
    }
   ],
   "source": [
    "def solve(numheads, numlegs):\n",
    "    rabbit=(numlegs-2*numheads)/2\n",
    "    chik=numheads-rabbit\n",
    "    return rabbit, chik\n",
    "print((solve(35,94)))\n"
   ]
  },
  {
   "cell_type": "code",
   "execution_count": 5,
   "metadata": {},
   "outputs": [
    {
     "name": "stdout",
     "output_type": "stream",
     "text": [
      "[[1, 2, 3], [1, 3, 2], [2, 1, 3], [2, 3, 1], [3, 1, 2], [3, 2, 1]]\n"
     ]
    }
   ],
   "source": [
    "def permutations(arr):\n",
    "    if len(arr) == 0:\n",
    "        return []\n",
    "    if len(arr) == 1:\n",
    "        return [arr]\n",
    "    \n",
    "    result = []\n",
    "    for i in range(len(arr)):\n",
    "        first = arr[i]  # Берем один элемент\n",
    "        remaining = arr[:i] + arr[i+1:]  # Убираем его из списка\n",
    "        for perm in permutations(remaining):  # Рекурсивно получаем перестановки оставшегося списка\n",
    "            result.append([first] + perm)\n",
    "    \n",
    "    return result\n",
    "\n",
    "# Пример использования:\n",
    "data = [1, 2, 3]\n",
    "print(permutations(data))\n"
   ]
  },
  {
   "cell_type": "code",
   "execution_count": 20,
   "metadata": {},
   "outputs": [
    {
     "data": {
      "text/plain": [
       "['ready', 'are', 'we']"
      ]
     },
     "execution_count": 20,
     "metadata": {},
     "output_type": "execute_result"
    }
   ],
   "source": [
    "def reverse(n):\n",
    "    n=n.split()\n",
    "    a=[]\n",
    "    for i in range(len(n)-1, -1,-1):\n",
    "        a.append(n[i])\n",
    "    return a    \n",
    "n=\"we are ready\"\n",
    "reverse(n)      \n",
    "\n",
    "\n",
    "\n"
   ]
  },
  {
   "cell_type": "code",
   "execution_count": 34,
   "metadata": {},
   "outputs": [
    {
     "name": "stdout",
     "output_type": "stream",
     "text": [
      "True\n",
      "False\n",
      "True\n",
      "False\n"
     ]
    }
   ],
   "source": [
    "def is_3(nums):\n",
    "    for i in  range(len(nums)-1):\n",
    "        if nums[i]==3 and nums[i+1]==3: \n",
    "            \n",
    "            return True\n",
    "            \n",
    "      \n",
    "    return False\n",
    "           \n",
    "print(is_3([1, 2 , 3 ,3 ]))\n",
    "print(is_3([3, 1, 3]))     \n",
    "print(is_3([3, 3, 3]))     \n",
    "print(is_3([]))"
   ]
  },
  {
   "cell_type": "code",
   "execution_count": 45,
   "metadata": {},
   "outputs": [
    {
     "name": "stdout",
     "output_type": "stream",
     "text": [
      "True\n",
      "True\n",
      "False\n",
      "False\n",
      "True\n"
     ]
    }
   ],
   "source": [
    "def is_007(nums):\n",
    "    zero_1=0\n",
    "    zero_2=0\n",
    "    \n",
    "    for i in  range(len(nums)):\n",
    "        \n",
    "         if nums[i]==0 and zero_1==0:\n",
    "            zero_1=1            \n",
    "         elif nums[i]==0 and zero_1==1:\n",
    "             zero_2=1\n",
    "         if nums[i]==7 and zero_1==1 and zero_2==1: \n",
    "             return True\n",
    "        \n",
    "            \n",
    "    return False\n",
    "           \n",
    "print(is_007([1, 2, 4, 0, 0, 7, 5]))  # True\n",
    "print(is_007([1, 0, 2, 4, 0, 5, 7]))  # True\n",
    "print(is_007([1, 7, 2, 0, 4, 5, 0]))  # False\n",
    "print(is_007([0, 7, 0]))  # False\n",
    "print(is_007([0, 0, 7, 1]))  # True"
   ]
  },
  {
   "cell_type": "code",
   "execution_count": 51,
   "metadata": {},
   "outputs": [
    {
     "name": "stdout",
     "output_type": "stream",
     "text": [
      "7238.229473870883\n"
     ]
    }
   ],
   "source": [
    "import math\n",
    "def volume(r):\n",
    "\n",
    "    n=(4/3)*r*r*r*math.pi\n",
    "    return n\n",
    "r=12\n",
    "print(volume(r))"
   ]
  },
  {
   "cell_type": "code",
   "execution_count": 53,
   "metadata": {},
   "outputs": [
    {
     "name": "stdout",
     "output_type": "stream",
     "text": [
      "[1, 5, 3, 64, 4, 6]\n"
     ]
    }
   ],
   "source": [
    "def un(l):\n",
    "    uniq=[]\n",
    "    for i in range(len(l)):\n",
    "        if l[i] not in uniq:\n",
    "            uniq.append(l[i])\n",
    "    return uniq\n",
    "l=[1,1,1,5,5,3,64,4,6]\n",
    "print(un(l))        "
   ]
  },
  {
   "cell_type": "code",
   "execution_count": 2,
   "metadata": {},
   "outputs": [
    {
     "name": "stdout",
     "output_type": "stream",
     "text": [
      "True False\n"
     ]
    }
   ],
   "source": [
    "def pal(n):\n",
    "    a=n\n",
    "    if n[::-1]==a:\n",
    "        return True\n",
    "    return False\n",
    "n=\"ala\"\n",
    "b=\"capitlas\"\n",
    "print(pal(n), pal(b))"
   ]
  },
  {
   "cell_type": "code",
   "execution_count": 3,
   "metadata": {},
   "outputs": [
    {
     "name": "stdout",
     "output_type": "stream",
     "text": [
      "*\n",
      "**\n",
      "***\n",
      "****\n",
      "*****\n",
      "******\n",
      "*******\n",
      "********\n",
      "*********\n",
      "**********\n",
      "***********\n",
      "************\n",
      "*************\n"
     ]
    }
   ],
   "source": [
    "def histogram(n):\n",
    "    for i in range(len(n)):\n",
    "        print(n[i]*\"*\")\n",
    "nums=[1,2,3,4,5,6,7,8,9,10,11,12,13]   \n",
    "histogram(nums)     "
   ]
  }
 ],
 "metadata": {
  "kernelspec": {
   "display_name": "Python 3",
   "language": "python",
   "name": "python3"
  },
  "language_info": {
   "codemirror_mode": {
    "name": "ipython",
    "version": 3
   },
   "file_extension": ".py",
   "mimetype": "text/x-python",
   "name": "python",
   "nbconvert_exporter": "python",
   "pygments_lexer": "ipython3",
   "version": "3.9.13"
  }
 },
 "nbformat": 4,
 "nbformat_minor": 2
}
