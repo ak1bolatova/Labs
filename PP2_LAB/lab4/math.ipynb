{
 "cells": [
  {
   "cell_type": "code",
   "execution_count": null,
   "metadata": {},
   "outputs": [
    {
     "name": "stdout",
     "output_type": "stream",
     "text": [
      "0.2617993877991494\n"
     ]
    }
   ],
   "source": [
    "# convert degree to radian\n",
    "import math\n",
    "#a=int(input(\"degree:\"))\n",
    "a=15\n",
    "print(math.radians(a))"
   ]
  },
  {
   "cell_type": "code",
   "execution_count": null,
   "metadata": {},
   "outputs": [
    {
     "name": "stdout",
     "output_type": "stream",
     "text": [
      "27.5\n"
     ]
    }
   ],
   "source": [
    "#area of a trapezoid\n",
    "import math\n",
    "#a=int(input(\"height:\"))\n",
    "#b=int(input(\"base 1:\"))\n",
    "#c=int(input(\"base 2:\"))\n",
    "a=5\n",
    "b=5\n",
    "c=6\n",
    "res=(b+c)*a/2\n",
    "print(res)"
   ]
  },
  {
   "cell_type": "code",
   "execution_count": null,
   "metadata": {},
   "outputs": [
    {
     "name": "stdout",
     "output_type": "stream",
     "text": [
      "625\n"
     ]
    }
   ],
   "source": [
    "#area of regular polygin\n",
    "import math\n",
    "#a=int(input(\"numder of sides:\"))\n",
    "#b=int(input(\"length of side:\"))\n",
    "a=4\n",
    "b=25\n",
    "c=a*math.pow(b,2)/(4*math.tan(math.pi/a))\n",
    "print(math.trunc(c))"
   ]
  },
  {
   "cell_type": "code",
   "execution_count": null,
   "metadata": {},
   "outputs": [
    {
     "name": "stdout",
     "output_type": "stream",
     "text": [
      "20.0\n"
     ]
    }
   ],
   "source": [
    "#area of a parallelogram\n",
    "#l=int(input(\"length:\"))\n",
    "#h=int(input(\"height:\"))\n",
    "l=5\n",
    "h=6\n",
    "print(float(l*h))"
   ]
  }
 ],
 "metadata": {
  "kernelspec": {
   "display_name": "Python 3",
   "language": "python",
   "name": "python3"
  },
  "language_info": {
   "codemirror_mode": {
    "name": "ipython",
    "version": 3
   },
   "file_extension": ".py",
   "mimetype": "text/x-python",
   "name": "python",
   "nbconvert_exporter": "python",
   "pygments_lexer": "ipython3",
   "version": "3.9.13"
  }
 },
 "nbformat": 4,
 "nbformat_minor": 2
}
