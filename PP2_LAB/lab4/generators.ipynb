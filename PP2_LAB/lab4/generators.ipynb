{
 "cells": [
  {
   "cell_type": "code",
   "execution_count": 1,
   "metadata": {},
   "outputs": [
    {
     "name": "stdout",
     "output_type": "stream",
     "text": [
      "1\n",
      "4\n",
      "9\n",
      "16\n",
      "25\n"
     ]
    }
   ],
   "source": [
    "def gen_square(N):\n",
    "    for n in range(1, N + 1):\n",
    "        yield n ** 2\n",
    "\n",
    "#N = int(input())\n",
    "N=5\n",
    "squares = gen_square(N)\n",
    "\n",
    "for square in squares:\n",
    "    print(square)"
   ]
  },
  {
   "cell_type": "code",
   "execution_count": 1,
   "metadata": {},
   "outputs": [
    {
     "name": "stdout",
     "output_type": "stream",
     "text": [
      "0, 2, 4, 6, 8, 10, 12, 14, 16\n"
     ]
    }
   ],
   "source": [
    "def even(n):\n",
    "    for i in range (0, n + 1):\n",
    "        if i % 2 == 0:\n",
    "            yield i\n",
    "\n",
    "#n = int(input())\n",
    "n=16\n",
    "print(*even(n), sep = \", \")"
   ]
  },
  {
   "cell_type": "code",
   "execution_count": 2,
   "metadata": {},
   "outputs": [
    {
     "name": "stdout",
     "output_type": "stream",
     "text": [
      "0, 12, 24\n"
     ]
    }
   ],
   "source": [
    "def divisible(n):\n",
    "    for i in range(0, n + 1):\n",
    "        if i % 3 == 0 and i % 4 == 0:\n",
    "            yield i\n",
    "\n",
    "#n = int(input())\n",
    "n=26\n",
    "div = divisible(n)\n",
    "print(*div, sep = \", \")"
   ]
  },
  {
   "cell_type": "code",
   "execution_count": 4,
   "metadata": {},
   "outputs": [
    {
     "name": "stdout",
     "output_type": "stream",
     "text": [
      "36, 49, 64, 81\n"
     ]
    }
   ],
   "source": [
    "def square(a, b):\n",
    "    for i in range(a, b + 1):\n",
    "        i = i ** 2\n",
    "        yield i \n",
    "\n",
    "#a = int(input(\"Enter a: \"))\n",
    "#b = int(input(\"Enter b: \"))\n",
    "a=6\n",
    "b=9\n",
    "\n",
    "\n",
    "squares = square(a, b)\n",
    "print(*squares, sep = \", \")"
   ]
  },
  {
   "cell_type": "code",
   "execution_count": 5,
   "metadata": {},
   "outputs": [
    {
     "name": "stdout",
     "output_type": "stream",
     "text": [
      "15 14 13 12 11 10 9 8 7 6 5 4 3 2 1\n"
     ]
    }
   ],
   "source": [
    "def numbers(n):\n",
    "    for i in range(n, 0, -1):\n",
    "        yield i\n",
    "    \n",
    "#n = int(input())\n",
    "n=15\n",
    "num = numbers(n)\n",
    "print(*num)"
   ]
  }
 ],
 "metadata": {
  "kernelspec": {
   "display_name": "Python 3",
   "language": "python",
   "name": "python3"
  },
  "language_info": {
   "codemirror_mode": {
    "name": "ipython",
    "version": 3
   },
   "file_extension": ".py",
   "mimetype": "text/x-python",
   "name": "python",
   "nbconvert_exporter": "python",
   "pygments_lexer": "ipython3",
   "version": "3.9.13"
  }
 },
 "nbformat": 4,
 "nbformat_minor": 2
}
